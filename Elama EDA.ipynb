{
 "cells": [
  {
   "cell_type": "code",
   "execution_count": 1,
   "metadata": {},
   "outputs": [],
   "source": [
    "import pandas as pd\n",
    "import numpy as np\n",
    "import seaborn as sns\n",
    "import matplotlib.pyplot as plt\n",
    "\n",
    "%matplotlib inline"
   ]
  },
  {
   "cell_type": "code",
   "execution_count": 2,
   "metadata": {},
   "outputs": [],
   "source": [
    "sns.set_style('whitegrid')"
   ]
  },
  {
   "cell_type": "code",
   "execution_count": 3,
   "metadata": {},
   "outputs": [],
   "source": [
    "df_accs = pd.read_csv('Test task for product analyst/ad_systems_accounts.csv')\n",
    "df_exch_rate = pd.read_csv('Test task for product analyst/exchange_rates.csv')\n",
    "df_transfers_to_ad = pd.read_csv('Test task for product analyst/transfers_to_ad_systems.csv')\n",
    "df_user_regs = pd.read_csv('Test task for product analyst/users_registrations.csv')"
   ]
  },
  {
   "cell_type": "code",
   "execution_count": 4,
   "metadata": {},
   "outputs": [],
   "source": [
    "df_transfers_to_ad['date_payed'] = df_transfers_to_ad['date_payed'].astype('datetime64')"
   ]
  },
  {
   "cell_type": "markdown",
   "metadata": {},
   "source": [
    "## Сегментация пользователей по сгенерированной выручке"
   ]
  },
  {
   "cell_type": "code",
   "execution_count": 5,
   "metadata": {},
   "outputs": [],
   "source": [
    "# Сколько платил каждый юзер в млн.\n",
    "price_sum = df_transfers_to_ad.groupby('user_id')['price'].sum().sort_values(ascending=False) / (10**6)\n",
    "price_sum = price_sum.to_frame()"
   ]
  },
  {
   "cell_type": "code",
   "execution_count": 6,
   "metadata": {},
   "outputs": [
    {
     "data": {
      "text/html": [
       "<div>\n",
       "<style scoped>\n",
       "    .dataframe tbody tr th:only-of-type {\n",
       "        vertical-align: middle;\n",
       "    }\n",
       "\n",
       "    .dataframe tbody tr th {\n",
       "        vertical-align: top;\n",
       "    }\n",
       "\n",
       "    .dataframe thead th {\n",
       "        text-align: right;\n",
       "    }\n",
       "</style>\n",
       "<table border=\"1\" class=\"dataframe\">\n",
       "  <thead>\n",
       "    <tr style=\"text-align: right;\">\n",
       "      <th></th>\n",
       "      <th>price</th>\n",
       "    </tr>\n",
       "    <tr>\n",
       "      <th>user_id</th>\n",
       "      <th></th>\n",
       "    </tr>\n",
       "  </thead>\n",
       "  <tbody>\n",
       "    <tr>\n",
       "      <th>9463</th>\n",
       "      <td>125.346283</td>\n",
       "    </tr>\n",
       "    <tr>\n",
       "      <th>259</th>\n",
       "      <td>124.056575</td>\n",
       "    </tr>\n",
       "    <tr>\n",
       "      <th>956</th>\n",
       "      <td>117.461151</td>\n",
       "    </tr>\n",
       "    <tr>\n",
       "      <th>3891</th>\n",
       "      <td>116.133317</td>\n",
       "    </tr>\n",
       "    <tr>\n",
       "      <th>3334</th>\n",
       "      <td>115.753761</td>\n",
       "    </tr>\n",
       "    <tr>\n",
       "      <th>...</th>\n",
       "      <td>...</td>\n",
       "    </tr>\n",
       "    <tr>\n",
       "      <th>11896</th>\n",
       "      <td>0.099120</td>\n",
       "    </tr>\n",
       "    <tr>\n",
       "      <th>6268</th>\n",
       "      <td>0.094156</td>\n",
       "    </tr>\n",
       "    <tr>\n",
       "      <th>2207</th>\n",
       "      <td>0.083479</td>\n",
       "    </tr>\n",
       "    <tr>\n",
       "      <th>3744</th>\n",
       "      <td>0.031192</td>\n",
       "    </tr>\n",
       "    <tr>\n",
       "      <th>7085</th>\n",
       "      <td>0.030712</td>\n",
       "    </tr>\n",
       "  </tbody>\n",
       "</table>\n",
       "<p>2665 rows × 1 columns</p>\n",
       "</div>"
      ],
      "text/plain": [
       "              price\n",
       "user_id            \n",
       "9463     125.346283\n",
       "259      124.056575\n",
       "956      117.461151\n",
       "3891     116.133317\n",
       "3334     115.753761\n",
       "...             ...\n",
       "11896      0.099120\n",
       "6268       0.094156\n",
       "2207       0.083479\n",
       "3744       0.031192\n",
       "7085       0.030712\n",
       "\n",
       "[2665 rows x 1 columns]"
      ]
     },
     "execution_count": 6,
     "metadata": {},
     "output_type": "execute_result"
    }
   ],
   "source": [
    "price_sum"
   ]
  },
  {
   "cell_type": "code",
   "execution_count": 7,
   "metadata": {},
   "outputs": [
    {
     "data": {
      "text/plain": [
       "<AxesSubplot:ylabel='Count'>"
      ]
     },
     "execution_count": 7,
     "metadata": {},
     "output_type": "execute_result"
    },
    {
     "data": {
      "image/png": "[encoded data removed]",
      "text/plain": [
       "<Figure size 432x288 with 1 Axes>"
      ]
     },
     "metadata": {},
     "output_type": "display_data"
    }
   ],
   "source": [
    "# Исходя из распределения делю на сегменты, с границами в функции segmentation\n",
    "sns.histplot(data=price_sum)"
   ]
  },
  {
   "cell_type": "code",
   "execution_count": 8,
   "metadata": {},
   "outputs": [],
   "source": [
    "def segmentation(x):\n",
    "    if x < 1:\n",
    "        return 'coal'\n",
    "    elif x < 16 and x >= 1:\n",
    "        return 'copper'\n",
    "    elif x < 32 and x >= 16:\n",
    "        return 'bronze'\n",
    "    elif x < 48 and x >= 32:\n",
    "        return 'silver'\n",
    "    elif x < 100 and x >= 48:\n",
    "        return 'gold'\n",
    "    elif x >= 100:\n",
    "        return 'platinum'"
   ]
  },
  {
   "cell_type": "code",
   "execution_count": 9,
   "metadata": {},
   "outputs": [],
   "source": [
    "price_sum['segment'] = price_sum['price'].apply(segmentation)\n",
    "price_sum = price_sum.reset_index()"
   ]
  },
  {
   "cell_type": "code",
   "execution_count": 10,
   "metadata": {},
   "outputs": [
    {
     "data": {
      "text/html": [
       "<div>\n",
       "<style scoped>\n",
       "    .dataframe tbody tr th:only-of-type {\n",
       "        vertical-align: middle;\n",
       "    }\n",
       "\n",
       "    .dataframe tbody tr th {\n",
       "        vertical-align: top;\n",
       "    }\n",
       "\n",
       "    .dataframe thead th {\n",
       "        text-align: right;\n",
       "    }\n",
       "</style>\n",
       "<table border=\"1\" class=\"dataframe\">\n",
       "  <thead>\n",
       "    <tr style=\"text-align: right;\">\n",
       "      <th></th>\n",
       "      <th>user_id</th>\n",
       "      <th>price</th>\n",
       "      <th>segment</th>\n",
       "    </tr>\n",
       "  </thead>\n",
       "  <tbody>\n",
       "    <tr>\n",
       "      <th>0</th>\n",
       "      <td>9463</td>\n",
       "      <td>125.346283</td>\n",
       "      <td>platinum</td>\n",
       "    </tr>\n",
       "    <tr>\n",
       "      <th>1</th>\n",
       "      <td>259</td>\n",
       "      <td>124.056575</td>\n",
       "      <td>platinum</td>\n",
       "    </tr>\n",
       "    <tr>\n",
       "      <th>2</th>\n",
       "      <td>956</td>\n",
       "      <td>117.461151</td>\n",
       "      <td>platinum</td>\n",
       "    </tr>\n",
       "    <tr>\n",
       "      <th>3</th>\n",
       "      <td>3891</td>\n",
       "      <td>116.133317</td>\n",
       "      <td>platinum</td>\n",
       "    </tr>\n",
       "    <tr>\n",
       "      <th>4</th>\n",
       "      <td>3334</td>\n",
       "      <td>115.753761</td>\n",
       "      <td>platinum</td>\n",
       "    </tr>\n",
       "    <tr>\n",
       "      <th>...</th>\n",
       "      <td>...</td>\n",
       "      <td>...</td>\n",
       "      <td>...</td>\n",
       "    </tr>\n",
       "    <tr>\n",
       "      <th>2660</th>\n",
       "      <td>11896</td>\n",
       "      <td>0.099120</td>\n",
       "      <td>coal</td>\n",
       "    </tr>\n",
       "    <tr>\n",
       "      <th>2661</th>\n",
       "      <td>6268</td>\n",
       "      <td>0.094156</td>\n",
       "      <td>coal</td>\n",
       "    </tr>\n",
       "    <tr>\n",
       "      <th>2662</th>\n",
       "      <td>2207</td>\n",
       "      <td>0.083479</td>\n",
       "      <td>coal</td>\n",
       "    </tr>\n",
       "    <tr>\n",
       "      <th>2663</th>\n",
       "      <td>3744</td>\n",
       "      <td>0.031192</td>\n",
       "      <td>coal</td>\n",
       "    </tr>\n",
       "    <tr>\n",
       "      <th>2664</th>\n",
       "      <td>7085</td>\n",
       "      <td>0.030712</td>\n",
       "      <td>coal</td>\n",
       "    </tr>\n",
       "  </tbody>\n",
       "</table>\n",
       "<p>2665 rows × 3 columns</p>\n",
       "</div>"
      ],
      "text/plain": [
       "      user_id       price   segment\n",
       "0        9463  125.346283  platinum\n",
       "1         259  124.056575  platinum\n",
       "2         956  117.461151  platinum\n",
       "3        3891  116.133317  platinum\n",
       "4        3334  115.753761  platinum\n",
       "...       ...         ...       ...\n",
       "2660    11896    0.099120      coal\n",
       "2661     6268    0.094156      coal\n",
       "2662     2207    0.083479      coal\n",
       "2663     3744    0.031192      coal\n",
       "2664     7085    0.030712      coal\n",
       "\n",
       "[2665 rows x 3 columns]"
      ]
     },
     "execution_count": 10,
     "metadata": {},
     "output_type": "execute_result"
    }
   ],
   "source": [
    "# У каждого заплатившего появился сегмент\n",
    "price_sum"
   ]
  },
  {
   "cell_type": "code",
   "execution_count": 11,
   "metadata": {},
   "outputs": [],
   "source": [
    "seg_spread = price_sum['segment'].value_counts().to_frame()"
   ]
  },
  {
   "cell_type": "code",
   "execution_count": 12,
   "metadata": {},
   "outputs": [
    {
     "data": {
      "text/plain": [
       "<AxesSubplot:ylabel='segment'>"
      ]
     },
     "execution_count": 12,
     "metadata": {},
     "output_type": "execute_result"
    },
    {
     "data": {
      "image/png": "[encoded data removed]",
      "text/plain": [
       "<Figure size 432x288 with 1 Axes>"
      ]
     },
     "metadata": {},
     "output_type": "display_data"
    }
   ],
   "source": [
    "# Распределение сегментов по количеству юзеров\n",
    "sns.barplot(data=seg_spread, y='segment', x=seg_spread.index)"
   ]
  },
  {
   "cell_type": "code",
   "execution_count": 13,
   "metadata": {},
   "outputs": [
    {
     "data": {
      "text/plain": [
       "segment\n",
       "bronze      18222.361998\n",
       "coal           22.937635\n",
       "copper       6030.875278\n",
       "gold        22462.420519\n",
       "platinum     2390.702998\n",
       "silver      31334.076640\n",
       "Name: price, dtype: float64"
      ]
     },
     "execution_count": 13,
     "metadata": {},
     "output_type": "execute_result"
    }
   ],
   "source": [
    "price_sum.groupby('segment')['price'].sum()"
   ]
  },
  {
   "cell_type": "code",
   "execution_count": 14,
   "metadata": {},
   "outputs": [
    {
     "data": {
      "text/plain": [
       "<AxesSubplot:ylabel='price'>"
      ]
     },
     "execution_count": 14,
     "metadata": {},
     "output_type": "execute_result"
    },
    {
     "data": {
      "image/png": "[encoded data removed]",
      "text/plain": [
       "<Figure size 432x288 with 1 Axes>"
      ]
     },
     "metadata": {},
     "output_type": "display_data"
    }
   ],
   "source": [
    "# Распределение пользователей по сегменту по выручке\n",
    "price_sum.groupby('segment')['price'].sum().plot(kind='pie')"
   ]
  },
  {
   "cell_type": "code",
   "execution_count": 15,
   "metadata": {},
   "outputs": [],
   "source": [
    "# добавляем сегмент в табличку с юзерами\n",
    "df_seg_users = df_user_regs.merge(price_sum, how='left', left_on='user_id', right_on='user_id')"
   ]
  },
  {
   "cell_type": "code",
   "execution_count": 16,
   "metadata": {},
   "outputs": [],
   "source": [
    "# помечаем юзеров которые ни разу не платили \n",
    "df_seg_users['segment'] = df_seg_users['segment'].fillna('not paid')"
   ]
  },
  {
   "cell_type": "code",
   "execution_count": 17,
   "metadata": {},
   "outputs": [],
   "source": [
    "df_seg_users = df_seg_users.sort_values(by='user_id')"
   ]
  },
  {
   "cell_type": "code",
   "execution_count": 18,
   "metadata": {},
   "outputs": [],
   "source": [
    "# сохраняем в csv для последуюзещего импорта в postgresql.\n",
    "df_seg_users[['user_id','segment']].to_csv('user_segmnent.csv', index=False)"
   ]
  },
  {
   "cell_type": "code",
   "execution_count": 19,
   "metadata": {},
   "outputs": [
    {
     "data": {
      "text/html": [
       "<div>\n",
       "<style scoped>\n",
       "    .dataframe tbody tr th:only-of-type {\n",
       "        vertical-align: middle;\n",
       "    }\n",
       "\n",
       "    .dataframe tbody tr th {\n",
       "        vertical-align: top;\n",
       "    }\n",
       "\n",
       "    .dataframe thead th {\n",
       "        text-align: right;\n",
       "    }\n",
       "</style>\n",
       "<table border=\"1\" class=\"dataframe\">\n",
       "  <thead>\n",
       "    <tr style=\"text-align: right;\">\n",
       "      <th></th>\n",
       "      <th>user_id</th>\n",
       "      <th>segment</th>\n",
       "    </tr>\n",
       "  </thead>\n",
       "  <tbody>\n",
       "    <tr>\n",
       "      <th>9969</th>\n",
       "      <td>1</td>\n",
       "      <td>not paid</td>\n",
       "    </tr>\n",
       "    <tr>\n",
       "      <th>1401</th>\n",
       "      <td>2</td>\n",
       "      <td>silver</td>\n",
       "    </tr>\n",
       "    <tr>\n",
       "      <th>13114</th>\n",
       "      <td>3</td>\n",
       "      <td>not paid</td>\n",
       "    </tr>\n",
       "    <tr>\n",
       "      <th>2234</th>\n",
       "      <td>4</td>\n",
       "      <td>not paid</td>\n",
       "    </tr>\n",
       "    <tr>\n",
       "      <th>3666</th>\n",
       "      <td>5</td>\n",
       "      <td>not paid</td>\n",
       "    </tr>\n",
       "    <tr>\n",
       "      <th>1964</th>\n",
       "      <td>6</td>\n",
       "      <td>copper</td>\n",
       "    </tr>\n",
       "    <tr>\n",
       "      <th>13115</th>\n",
       "      <td>7</td>\n",
       "      <td>bronze</td>\n",
       "    </tr>\n",
       "    <tr>\n",
       "      <th>3386</th>\n",
       "      <td>8</td>\n",
       "      <td>gold</td>\n",
       "    </tr>\n",
       "    <tr>\n",
       "      <th>6558</th>\n",
       "      <td>9</td>\n",
       "      <td>copper</td>\n",
       "    </tr>\n",
       "    <tr>\n",
       "      <th>12858</th>\n",
       "      <td>10</td>\n",
       "      <td>not paid</td>\n",
       "    </tr>\n",
       "  </tbody>\n",
       "</table>\n",
       "</div>"
      ],
      "text/plain": [
       "       user_id   segment\n",
       "9969         1  not paid\n",
       "1401         2    silver\n",
       "13114        3  not paid\n",
       "2234         4  not paid\n",
       "3666         5  not paid\n",
       "1964         6    copper\n",
       "13115        7    bronze\n",
       "3386         8      gold\n",
       "6558         9    copper\n",
       "12858       10  not paid"
      ]
     },
     "execution_count": 19,
     "metadata": {},
     "output_type": "execute_result"
    }
   ],
   "source": [
    "# видим то как просегментированы юзеры\n",
    "df_seg_users[['user_id','segment']].head(10)"
   ]
  },
  {
   "cell_type": "markdown",
   "metadata": {},
   "source": [
    "### Расчет оттока клиентов (churn rate)"
   ]
  },
  {
   "cell_type": "code",
   "execution_count": 20,
   "metadata": {},
   "outputs": [
    {
     "data": {
      "text/plain": [
       "<AxesSubplot:ylabel='Frequency'>"
      ]
     },
     "execution_count": 20,
     "metadata": {},
     "output_type": "execute_result"
    },
    {
     "data": {
      "image/png": "[encoded data removed]",
      "text/plain": [
       "<Figure size 432x288 with 1 Axes>"
      ]
     },
     "metadata": {},
     "output_type": "display_data"
    }
   ],
   "source": [
    "# Распределение юзеров по количеству транзакций переводов\n",
    "df_transfers_to_ad.groupby('user_id')['date_payed'].count().sort_values(ascending=False).plot(kind='hist')"
   ]
  },
  {
   "cell_type": "code",
   "execution_count": 21,
   "metadata": {},
   "outputs": [
    {
     "data": {
      "text/html": [
       "<div>\n",
       "<style scoped>\n",
       "    .dataframe tbody tr th:only-of-type {\n",
       "        vertical-align: middle;\n",
       "    }\n",
       "\n",
       "    .dataframe tbody tr th {\n",
       "        vertical-align: top;\n",
       "    }\n",
       "\n",
       "    .dataframe thead th {\n",
       "        text-align: right;\n",
       "    }\n",
       "</style>\n",
       "<table border=\"1\" class=\"dataframe\">\n",
       "  <thead>\n",
       "    <tr style=\"text-align: right;\">\n",
       "      <th></th>\n",
       "      <th>user_id</th>\n",
       "      <th>ad_system</th>\n",
       "      <th>account_id</th>\n",
       "      <th>date_payed</th>\n",
       "      <th>price</th>\n",
       "      <th>currency</th>\n",
       "      <th>diff</th>\n",
       "    </tr>\n",
       "  </thead>\n",
       "  <tbody>\n",
       "    <tr>\n",
       "      <th>196484</th>\n",
       "      <td>2</td>\n",
       "      <td>mytarget</td>\n",
       "      <td>173460</td>\n",
       "      <td>2018-11-17 13:29:12</td>\n",
       "      <td>21032.0</td>\n",
       "      <td>RUB</td>\n",
       "      <td>NaN</td>\n",
       "    </tr>\n",
       "    <tr>\n",
       "      <th>452461</th>\n",
       "      <td>2</td>\n",
       "      <td>mytarget</td>\n",
       "      <td>173460</td>\n",
       "      <td>2018-11-17 17:44:58</td>\n",
       "      <td>202659.0</td>\n",
       "      <td>RUB</td>\n",
       "      <td>0.0</td>\n",
       "    </tr>\n",
       "    <tr>\n",
       "      <th>516525</th>\n",
       "      <td>2</td>\n",
       "      <td>mytarget</td>\n",
       "      <td>173460</td>\n",
       "      <td>2018-11-18 19:21:54</td>\n",
       "      <td>76491.0</td>\n",
       "      <td>RUB</td>\n",
       "      <td>1.0</td>\n",
       "    </tr>\n",
       "    <tr>\n",
       "      <th>271386</th>\n",
       "      <td>2</td>\n",
       "      <td>mytarget</td>\n",
       "      <td>173460</td>\n",
       "      <td>2018-11-19 17:53:26</td>\n",
       "      <td>1962.0</td>\n",
       "      <td>RUB</td>\n",
       "      <td>0.0</td>\n",
       "    </tr>\n",
       "    <tr>\n",
       "      <th>346071</th>\n",
       "      <td>2</td>\n",
       "      <td>mytarget</td>\n",
       "      <td>173460</td>\n",
       "      <td>2018-11-20 03:10:16</td>\n",
       "      <td>195548.0</td>\n",
       "      <td>RUB</td>\n",
       "      <td>0.0</td>\n",
       "    </tr>\n",
       "    <tr>\n",
       "      <th>...</th>\n",
       "      <td>...</td>\n",
       "      <td>...</td>\n",
       "      <td>...</td>\n",
       "      <td>...</td>\n",
       "      <td>...</td>\n",
       "      <td>...</td>\n",
       "      <td>...</td>\n",
       "    </tr>\n",
       "    <tr>\n",
       "      <th>525230</th>\n",
       "      <td>14272</td>\n",
       "      <td>google</td>\n",
       "      <td>169703</td>\n",
       "      <td>2019-06-30 18:15:41</td>\n",
       "      <td>290034.0</td>\n",
       "      <td>RUB</td>\n",
       "      <td>4.0</td>\n",
       "    </tr>\n",
       "    <tr>\n",
       "      <th>354758</th>\n",
       "      <td>14272</td>\n",
       "      <td>google</td>\n",
       "      <td>169703</td>\n",
       "      <td>2019-07-01 23:46:09</td>\n",
       "      <td>84664.0</td>\n",
       "      <td>RUB</td>\n",
       "      <td>1.0</td>\n",
       "    </tr>\n",
       "    <tr>\n",
       "      <th>2425</th>\n",
       "      <td>14272</td>\n",
       "      <td>google</td>\n",
       "      <td>169703</td>\n",
       "      <td>2019-07-03 03:07:22</td>\n",
       "      <td>250731.0</td>\n",
       "      <td>RUB</td>\n",
       "      <td>1.0</td>\n",
       "    </tr>\n",
       "    <tr>\n",
       "      <th>439803</th>\n",
       "      <td>14272</td>\n",
       "      <td>google</td>\n",
       "      <td>169703</td>\n",
       "      <td>2019-07-04 09:13:12</td>\n",
       "      <td>195845.0</td>\n",
       "      <td>RUB</td>\n",
       "      <td>1.0</td>\n",
       "    </tr>\n",
       "    <tr>\n",
       "      <th>226693</th>\n",
       "      <td>14272</td>\n",
       "      <td>google</td>\n",
       "      <td>169703</td>\n",
       "      <td>2019-07-07 01:44:46</td>\n",
       "      <td>208161.0</td>\n",
       "      <td>RUB</td>\n",
       "      <td>2.0</td>\n",
       "    </tr>\n",
       "  </tbody>\n",
       "</table>\n",
       "<p>533521 rows × 7 columns</p>\n",
       "</div>"
      ],
      "text/plain": [
       "        user_id ad_system  account_id          date_payed     price currency  \\\n",
       "196484        2  mytarget      173460 2018-11-17 13:29:12   21032.0      RUB   \n",
       "452461        2  mytarget      173460 2018-11-17 17:44:58  202659.0      RUB   \n",
       "516525        2  mytarget      173460 2018-11-18 19:21:54   76491.0      RUB   \n",
       "271386        2  mytarget      173460 2018-11-19 17:53:26    1962.0      RUB   \n",
       "346071        2  mytarget      173460 2018-11-20 03:10:16  195548.0      RUB   \n",
       "...         ...       ...         ...                 ...       ...      ...   \n",
       "525230    14272    google      169703 2019-06-30 18:15:41  290034.0      RUB   \n",
       "354758    14272    google      169703 2019-07-01 23:46:09   84664.0      RUB   \n",
       "2425      14272    google      169703 2019-07-03 03:07:22  250731.0      RUB   \n",
       "439803    14272    google      169703 2019-07-04 09:13:12  195845.0      RUB   \n",
       "226693    14272    google      169703 2019-07-07 01:44:46  208161.0      RUB   \n",
       "\n",
       "        diff  \n",
       "196484   NaN  \n",
       "452461   0.0  \n",
       "516525   1.0  \n",
       "271386   0.0  \n",
       "346071   0.0  \n",
       "...      ...  \n",
       "525230   4.0  \n",
       "354758   1.0  \n",
       "2425     1.0  \n",
       "439803   1.0  \n",
       "226693   2.0  \n",
       "\n",
       "[533521 rows x 7 columns]"
      ]
     },
     "execution_count": 21,
     "metadata": {},
     "output_type": "execute_result"
    }
   ],
   "source": [
    "# Рассчитываем разницу в днях между платежами для всех юзеров\n",
    "df = df_transfers_to_ad.sort_values(by=['user_id', 'date_payed'])\n",
    "df['diff'] = df.groupby('user_id')['date_payed'].diff().dt.days\n",
    "df"
   ]
  },
  {
   "cell_type": "code",
   "execution_count": 22,
   "metadata": {},
   "outputs": [
    {
     "data": {
      "text/plain": [
       "<AxesSubplot:ylabel='Frequency'>"
      ]
     },
     "execution_count": 22,
     "metadata": {},
     "output_type": "execute_result"
    },
    {
     "data": {
      "image/png": "[encoded data removed]",
      "text/plain": [
       "<Figure size 432x288 with 1 Axes>"
      ]
     },
     "metadata": {},
     "output_type": "display_data"
    }
   ],
   "source": [
    "# Усредняем транзакционную частоту в днях по каждому пользователю,\n",
    "# визуализируем в виде гистрограммы\n",
    "grouped = df.groupby('user_id')['diff'].mean().sort_values(ascending=False)\n",
    "grouped.plot(kind='hist', bins=[0, 5, 10, 15, 20, 25, 30, 35])"
   ]
  },
  {
   "cell_type": "markdown",
   "metadata": {},
   "source": [
    "Видим, что у более чем 2000 (80%)  совершивших платеж пользователей, частота совершения транзаций составляет менее чем 5 дней. Предположим, что если пользователь не совершал транзакции в течении 10 дней - мы его потеряли, фиксируем отток."
   ]
  },
  {
   "cell_type": "code",
   "execution_count": 23,
   "metadata": {},
   "outputs": [],
   "source": [
    "# TODO Рассчитать на каждый конкретный день количество ушедших пользователей, количество новых и активных пользователей."
   ]
  }
 ],
 "metadata": {
  "kernelspec": {
   "display_name": "Python 3",
   "language": "python",
   "name": "python3"
  },
  "language_info": {
   "codemirror_mode": {
    "name": "ipython",
    "version": 3
   },
   "file_extension": ".py",
   "mimetype": "text/x-python",
   "name": "python",
   "nbconvert_exporter": "python",
   "pygments_lexer": "ipython3",
   "version": "3.8.5"
  }
 },
 "nbformat": 4,
 "nbformat_minor": 4
}
